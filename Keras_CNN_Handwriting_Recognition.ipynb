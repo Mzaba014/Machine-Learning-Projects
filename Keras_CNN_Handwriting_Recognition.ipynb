{
 "cells": [
  {
   "cell_type": "code",
   "execution_count": 22,
   "metadata": {},
   "outputs": [],
   "source": [
    "import tensorflow\n",
    "from tensorflow.keras.datasets import mnist\n",
    "from tensorflow.keras.models import Sequential\n",
    "from tensorflow.keras.layers import Dense, Dropout, Conv2D, MaxPooling2D, Flatten\n",
    "from tensorflow.keras.optimizers import RMSprop\n",
    "\n",
    "# Loading training data\n",
    "(mnist_train_images, mnist_train_labels), (mnist_test_images, mnist_test_labels) = mnist.load_data()\n",
    "\n",
    "from tensorflow.keras import backend as K\n",
    "\n",
    "# reshaping the raw data into 28x28x1. This is a 28x28 image with 1 color channel\n",
    "if K.image_data_format() == 'channels_first':\n",
    "    train_images = mnist_train_images.reshape(mnist_train_images.shape[0], 1, 28, 28)\n",
    "    test_images = mnist_test_images.reshape(mnist_test_images.shape[0], 1, 28, 28)\n",
    "    input_shape = (1, 28, 28)\n",
    "else:\n",
    "    train_images = mnist_train_images.reshape(mnist_train_images.shape[0], 28, 28, 1)\n",
    "    test_images = mnist_test_images.reshape(mnist_test_images.shape[0], 28, 28, 1)\n",
    "    input_shape = (28, 28, 1)\n",
    "    \n",
    "train_images = train_images.astype('float32')\n",
    "test_images = test_images.astype('float32')\n",
    "train_images /= 255\n",
    "test_images /= 255\n",
    "\n",
    "# Converting the labels to one-shot format once again.\n",
    "train_labels = tensorflow.keras.utils.to_categorical(mnist_train_labels, 10)\n",
    "test_labels = tensorflow.keras.utils.to_categorical(mnist_test_labels, 10)\n",
    "\n",
    "def display_sample(num):\n",
    "    #Print the one-hot array of this sample's label ex: [1. 0. 0. 0. ...]\n",
    "    print(train_labels[num])  \n",
    "    #Converting one hot to its int representation for output\n",
    "    label = train_labels[num].argmax(axis=0)\n",
    "    #Reshape the 768 values to a 28x28x1 image\n",
    "    image = train_images[num].reshape([28,28])\n",
    "    # Outputting title and label\n",
    "    plt.title('Sample: %d  Label: %d' % (num, label))\n",
    "    plt.imshow(image, cmap=plt.get_cmap('gray_r'))\n",
    "    plt.show()"
   ]
  },
  {
   "cell_type": "code",
   "execution_count": 23,
   "metadata": {},
   "outputs": [
    {
     "name": "stdout",
     "output_type": "stream",
     "text": [
      "WARNING:tensorflow:From c:\\users\\manny\\appdata\\local\\programs\\python\\python37\\lib\\site-packages\\tensorflow\\python\\keras\\layers\\core.py:143: calling dropout (from tensorflow.python.ops.nn_ops) with keep_prob is deprecated and will be removed in a future version.\n",
      "Instructions for updating:\n",
      "Please use `rate` instead of `keep_prob`. Rate should be set to `rate = 1 - keep_prob`.\n",
      "Train on 60000 samples, validate on 10000 samples\n",
      "WARNING:tensorflow:From c:\\users\\manny\\appdata\\local\\programs\\python\\python37\\lib\\site-packages\\tensorflow\\python\\ops\\math_ops.py:3066: to_int32 (from tensorflow.python.ops.math_ops) is deprecated and will be removed in a future version.\n",
      "Instructions for updating:\n",
      "Use tf.cast instead.\n",
      "Epoch 1/10\n",
      " - 123s - loss: 0.1964 - acc: 0.9407 - val_loss: 0.0462 - val_acc: 0.9851\n",
      "Epoch 2/10\n",
      " - 126s - loss: 0.0854 - acc: 0.9751 - val_loss: 0.0460 - val_acc: 0.9854\n",
      "Epoch 3/10\n",
      " - 131s - loss: 0.0660 - acc: 0.9802 - val_loss: 0.0345 - val_acc: 0.9883\n",
      "Epoch 4/10\n",
      " - 129s - loss: 0.0532 - acc: 0.9840 - val_loss: 0.0315 - val_acc: 0.9900\n",
      "Epoch 5/10\n",
      " - 120s - loss: 0.0431 - acc: 0.9868 - val_loss: 0.0322 - val_acc: 0.9894\n",
      "Epoch 6/10\n",
      " - 125s - loss: 0.0398 - acc: 0.9876 - val_loss: 0.0274 - val_acc: 0.9926\n",
      "Epoch 7/10\n",
      " - 125s - loss: 0.0359 - acc: 0.9886 - val_loss: 0.0325 - val_acc: 0.9904\n",
      "Epoch 8/10\n",
      " - 141s - loss: 0.0306 - acc: 0.9906 - val_loss: 0.0295 - val_acc: 0.9918\n",
      "Epoch 9/10\n",
      " - 140s - loss: 0.0280 - acc: 0.9909 - val_loss: 0.0317 - val_acc: 0.9916\n",
      "Epoch 10/10\n",
      " - 117s - loss: 0.0282 - acc: 0.9909 - val_loss: 0.0308 - val_acc: 0.9916\n"
     ]
    }
   ],
   "source": [
    "# Creation of the model #\n",
    "\n",
    "model = Sequential()\n",
    "# 32 windows in the 2D convolution of 3x3 each\n",
    "model.add(Conv2D(32, kernel_size=(3, 3),\n",
    "                 activation='relu',\n",
    "                 input_shape=input_shape))\n",
    "# 64 3x3 kernels for input into the 2d convolution\n",
    "model.add(Conv2D(64, (3, 3), activation='relu'))\n",
    "# Reduce by taking the max of each 2x2 block, making the results more managable - speed++\n",
    "model.add(MaxPooling2D(pool_size=(2, 2)))\n",
    "# Dropout to avoid overfitting\n",
    "model.add(Dropout(0.25))\n",
    "# Flatten the results to one dimension for passing into our final layer\n",
    "model.add(Flatten())\n",
    "# A hidden layer to learn with\n",
    "model.add(Dense(128, activation='relu'))\n",
    "# Another dropout\n",
    "model.add(Dropout(0.5))\n",
    "# Final categorization from 0-9 with softmax\n",
    "model.add(Dense(10, activation='softmax'))\n",
    "\n",
    "# Compiling model with categorical crossent as this is a multiple classification problem\n",
    "model.compile(loss='categorical_crossentropy',\n",
    "              optimizer='adam',\n",
    "              metrics=['accuracy'])\n",
    "\n",
    "# Training the model in batches of 32 through 10 epochs. This may take a long time so please consider before compiling\n",
    "history = model.fit(train_images, train_labels,\n",
    "                    batch_size=32,\n",
    "                    epochs=10,\n",
    "                    verbose=2,\n",
    "                    validation_data=(test_images, test_labels))"
   ]
  },
  {
   "cell_type": "markdown",
   "metadata": {},
   "source": [
    "As demonstrated above, this model beats out the ~98 accuracy of the ANN version but takes substantially longer to train!\n",
    "On my i5 6500k, this model took ~25 minutes to train."
   ]
  },
  {
   "cell_type": "code",
   "execution_count": null,
   "metadata": {},
   "outputs": [],
   "source": []
  }
 ],
 "metadata": {
  "kernelspec": {
   "display_name": "Python 3",
   "language": "python",
   "name": "python3"
  },
  "language_info": {
   "codemirror_mode": {
    "name": "ipython",
    "version": 3
   },
   "file_extension": ".py",
   "mimetype": "text/x-python",
   "name": "python",
   "nbconvert_exporter": "python",
   "pygments_lexer": "ipython3",
   "version": "3.7.1"
  }
 },
 "nbformat": 4,
 "nbformat_minor": 2
}
