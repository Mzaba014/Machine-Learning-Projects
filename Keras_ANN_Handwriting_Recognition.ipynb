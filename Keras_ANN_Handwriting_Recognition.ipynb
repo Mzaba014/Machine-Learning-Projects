{
 "cells": [
  {
   "cell_type": "code",
   "execution_count": 1,
   "metadata": {},
   "outputs": [],
   "source": [
    "import tensorflow as tf\n",
    "from tensorflow import keras\n",
    "from tensorflow.keras.datasets import mnist\n",
    "from tensorflow.keras.models import Sequential\n",
    "from tensorflow.keras.layers import Dense, Dropout\n",
    "from tensorflow.keras.optimizers import RMSprop"
   ]
  },
  {
   "cell_type": "code",
   "execution_count": 2,
   "metadata": {},
   "outputs": [],
   "source": [
    "# Loading training data\n",
    "(mnist_train_images, mnist_train_labels), (mnist_test_images, mnist_test_labels) = mnist.load_data()\n",
    "\n",
    "# Converting data to format expected by Keras #\n",
    "train_images = mnist_train_images.reshape(60000, 784)\n",
    "test_images = mnist_test_images.reshape(10000, 784)\n",
    "# Converting to floating point 32\n",
    "train_images = train_images.astype('float32')\n",
    "test_images = test_images.astype('float32')\n",
    "# Normalizing to 0-1 range, 8-bit integer is 0-255. \n",
    "# 0-255/255 leaves us with a range of 0-1.\n",
    "train_images /= 255 \n",
    "test_images /= 255\n",
    "\n",
    "# Converting the resulting labels for the numbers being read in (0-9) to one-hot format\n",
    "train_labels = keras.utils.to_categorical(mnist_train_labels, 10)\n",
    "test_labels = keras.utils.to_categorical(mnist_test_labels, 10)"
   ]
  },
  {
   "cell_type": "code",
   "execution_count": 3,
   "metadata": {},
   "outputs": [
    {
     "name": "stdout",
     "output_type": "stream",
     "text": [
      "WARNING:tensorflow:From c:\\users\\manny\\appdata\\local\\programs\\python\\python37\\lib\\site-packages\\tensorflow\\python\\ops\\resource_variable_ops.py:435: colocate_with (from tensorflow.python.framework.ops) is deprecated and will be removed in a future version.\n",
      "Instructions for updating:\n",
      "Colocations handled automatically by placer.\n"
     ]
    }
   ],
   "source": [
    "# Creation of a simple sequential model for training.\n",
    "model = Sequential()\n",
    "# We will be feeding a 784 feature feed into a RELU layer of 512 nodes\n",
    "model.add(Dense(512, activation='relu', input_shape=(784,)))\n",
    "# Output from RELU layer fed into a 10 node softmax layer\n",
    "model.add(Dense(10, activation='softmax'))\n",
    "\n",
    "# Setting up model's loss function and optimizer\n",
    "model.compile(loss='categorical_crossentropy',\n",
    "              optimizer=RMSprop(),\n",
    "              metrics=['accuracy'])"
   ]
  },
  {
   "cell_type": "code",
   "execution_count": 4,
   "metadata": {},
   "outputs": [
    {
     "name": "stdout",
     "output_type": "stream",
     "text": [
      "Train on 60000 samples, validate on 10000 samples\n",
      "WARNING:tensorflow:From c:\\users\\manny\\appdata\\local\\programs\\python\\python37\\lib\\site-packages\\tensorflow\\python\\ops\\math_ops.py:3066: to_int32 (from tensorflow.python.ops.math_ops) is deprecated and will be removed in a future version.\n",
      "Instructions for updating:\n",
      "Use tf.cast instead.\n",
      "Epoch 1/10\n",
      " - 4s - loss: 0.2442 - acc: 0.9298 - val_loss: 0.1388 - val_acc: 0.9580\n",
      "Epoch 2/10\n",
      " - 3s - loss: 0.0995 - acc: 0.9700 - val_loss: 0.0876 - val_acc: 0.9730\n",
      "Epoch 3/10\n",
      " - 4s - loss: 0.0655 - acc: 0.9805 - val_loss: 0.0744 - val_acc: 0.9769\n",
      "Epoch 4/10\n",
      " - 3s - loss: 0.0476 - acc: 0.9858 - val_loss: 0.0661 - val_acc: 0.9796\n",
      "Epoch 5/10\n",
      " - 4s - loss: 0.0350 - acc: 0.9893 - val_loss: 0.0655 - val_acc: 0.9793\n",
      "Epoch 6/10\n",
      " - 3s - loss: 0.0274 - acc: 0.9917 - val_loss: 0.0655 - val_acc: 0.9813\n",
      "Epoch 7/10\n",
      " - 4s - loss: 0.0205 - acc: 0.9940 - val_loss: 0.0719 - val_acc: 0.9801\n",
      "Epoch 8/10\n",
      " - 4s - loss: 0.0158 - acc: 0.9951 - val_loss: 0.0721 - val_acc: 0.9798\n",
      "Epoch 9/10\n",
      " - 4s - loss: 0.0129 - acc: 0.9962 - val_loss: 0.0640 - val_acc: 0.9834\n",
      "Epoch 10/10\n",
      " - 4s - loss: 0.0098 - acc: 0.9968 - val_loss: 0.0724 - val_acc: 0.9817\n"
     ]
    }
   ],
   "source": [
    "# Closing out old session if exists, then starting a new session\n",
    "if 'session' in locals() and session is not None:\n",
    "    print('Close interactive session')\n",
    "    session.close()\n",
    "    \n",
    "config = tf.ConfigProto()\n",
    "config.gpu_options.allow_growth=True\n",
    "sess = tf.Session(config=config)\n",
    "\n",
    "# Finally, training the model through 10 epochs\n",
    "history = model.fit(train_images, train_labels,\n",
    "                    batch_size=100,\n",
    "                    epochs=10,\n",
    "                    verbose=2,\n",
    "                    validation_data=(test_images, test_labels))"
   ]
  },
  {
   "cell_type": "code",
   "execution_count": 5,
   "metadata": {},
   "outputs": [
    {
     "name": "stdout",
     "output_type": "stream",
     "text": [
      "Test loss: 0.07235214983986006\n",
      "Test accuracy: 0.9817\n"
     ]
    }
   ],
   "source": [
    "# Evaluating the overall accuracy of the model\n",
    "score = model.evaluate(test_images, test_labels, verbose=0)\n",
    "print('Test loss:', score[0])\n",
    "print('Test accuracy:', score[1])"
   ]
  },
  {
   "cell_type": "markdown",
   "metadata": {},
   "source": [
    "As seen above, the model has an overall accuracy of ~98% which could be further improved by tweaking the model or training it through more epochs"
   ]
  }
 ],
 "metadata": {
  "kernelspec": {
   "display_name": "Python 3",
   "language": "python",
   "name": "python3"
  },
  "language_info": {
   "codemirror_mode": {
    "name": "ipython",
    "version": 3
   },
   "file_extension": ".py",
   "mimetype": "text/x-python",
   "name": "python",
   "nbconvert_exporter": "python",
   "pygments_lexer": "ipython3",
   "version": "3.7.1"
  }
 },
 "nbformat": 4,
 "nbformat_minor": 2
}
